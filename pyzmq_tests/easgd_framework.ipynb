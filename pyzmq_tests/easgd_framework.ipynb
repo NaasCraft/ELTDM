{
 "cells": [
  {
   "cell_type": "markdown",
   "metadata": {},
   "source": [
    "On utilise ce notebook pour présenter le comportement du controleur en communication avec les _workers_.\n",
    "\n",
    "Le format de communication est __REQUEST - REPLY__, où chaque worker établit une socket REPLY et se connecte à la socket REQUEST du controleur. Le controleur quant à lui se connecte à tous les workers en REQUEST, et établit :  \n",
    "+ en mode synchrone, une socket par worker,\n",
    "+ en mode asynchrone, une seule socket."
   ]
  },
  {
   "cell_type": "code",
   "execution_count": 3,
   "metadata": {
    "collapsed": false
   },
   "outputs": [],
   "source": [
    "import zmq\n",
    "import time\n",
    "import multiprocessing\n",
    "from multiprocessing import Process"
   ]
  },
  {
   "cell_type": "code",
   "execution_count": 4,
   "metadata": {
    "collapsed": true
   },
   "outputs": [],
   "source": [
    "import numpy as np"
   ]
  },
  {
   "cell_type": "markdown",
   "metadata": {},
   "source": [
    "# Approche synchrone\n",
    "\n",
    "Dans le cas d'application considéré, on transfèrera les poids des neurones au moyen de `zmq.Socket.send_pyobj()` et `zmq.Socket.recv_pyobj()`.\n",
    "\n",
    "(Voir les fichiers `./small_mnist_multigpu.py` et `./cifar_multigpu.py` pour l'application à Keras.)"
   ]
  },
  {
   "cell_type": "code",
   "execution_count": 22,
   "metadata": {
    "collapsed": false
   },
   "outputs": [],
   "source": [
    "def worker_process(port=9000, w_id=0, eta=0.9, rho=0.5):\n",
    "    print(\"Initializing worker on port {}\".format(port))\n",
    "    context = zmq.Context()\n",
    "    socket = context.socket(zmq.REP)\n",
    "    socket.bind(\"tcp://*:{}\".format(port))\n",
    "    \n",
    "    np.random.seed(w_id*7) \n",
    "    ##careful, seeds should be different \n",
    "    ## if different behaviors are expected between workers\n",
    "    \n",
    "    while True:\n",
    "        # wait for controller request\n",
    "        req = socket.recv_json()\n",
    "        \n",
    "        if 'stop' in req:\n",
    "            break\n",
    "        \n",
    "        center = req['center']\n",
    "        if 'init' in req:\n",
    "            x = center\n",
    "        \n",
    "        # the gradient update step would go here\n",
    "        \n",
    "        grad = np.random.rand()\n",
    "        x -= eta * (grad + rho*(x - center))\n",
    "        \n",
    "        time.sleep(1+grad)\n",
    "        \n",
    "        socket.send_json({'w_id':w_id, 'value':x, 'time':1+grad})"
   ]
  },
  {
   "cell_type": "code",
   "execution_count": 23,
   "metadata": {
    "collapsed": false
   },
   "outputs": [],
   "source": [
    "def controller(port=9000, n_workers=2):\n",
    "    print(\"Initializing controller...\")\n",
    "    \n",
    "    # initialize center variable\n",
    "    x = np.random.rand()\n",
    "    print(\"(init) center var = {:.2f}\".format(x))\n",
    "    \n",
    "    # parameters\n",
    "    eta, rho = 0.9, 0.5\n",
    "    \n",
    "    context = zmq.Context()\n",
    "    \n",
    "    ports = [port+k for k in range(n_workers)]\n",
    "    \n",
    "    # init workers and corresponding sockets (one per worker)\n",
    "    workers = [context.socket(zmq.REQ) for k in range(n_workers)]\n",
    "    \n",
    "    for w_id in range(n_workers):\n",
    "        w_port = ports[w_id]\n",
    "        Process(target=worker_process, args=(w_port,w_id,eta,rho,)).start()\n",
    "        w_sock = workers[w_id]\n",
    "        w_sock.connect('tcp://localhost:{}'.format(w_port))\n",
    "        \n",
    "    # begin steps\n",
    "    for step in range(5):\n",
    "        values = np.zeros(n_workers)\n",
    "        print('\\n-- Step {} --\\n'.format(step))\n",
    "        \n",
    "        for w_id in range(n_workers):\n",
    "            # send request with current center to each worker\n",
    "            worker = workers[w_id]\n",
    "            to_send = {'center': x}\n",
    "            \n",
    "            # additionnal data to control workers init\n",
    "            if step==0:\n",
    "                to_send['init'] = True\n",
    "            worker.send_json(to_send)\n",
    "            \n",
    "        for w_id in range(n_workers):\n",
    "            # wait for each answer to perform update\n",
    "            worker = workers[w_id]\n",
    "            x_worker = worker.recv_json()\n",
    "            \n",
    "            print(\"(worker {w_id}) updated var = {value:.2f}\".format(**x_worker))\n",
    "            print(\"\\ttook {time:.2f}\".format(**x_worker))\n",
    "            values[w_id] = x_worker['value']\n",
    "        \n",
    "        # compute new center value\n",
    "        diffs = values - x\n",
    "        x += eta * rho * np.sum(diffs)\n",
    "        print(\"(update) center var = {:.2f}\".format(x))\n",
    "        \n",
    "        # if last step, stop workers\n",
    "        if step==4:\n",
    "            for worker in workers:\n",
    "                worker.send_json({'stop':True})"
   ]
  },
  {
   "cell_type": "code",
   "execution_count": 24,
   "metadata": {
    "collapsed": false
   },
   "outputs": [
    {
     "name": "stdout",
     "output_type": "stream",
     "text": [
      "Initializing controller...\n",
      "(init) center var = 0.11\n",
      "Initializing worker on port 9000\n",
      "Initializing worker on port 9001\n",
      "\n",
      "-- Step 0 --\n",
      "\n",
      "(worker 0) updated var = -0.38\n",
      "\ttook 1.55\n",
      "(worker 1) updated var = 0.04\n",
      "\ttook 1.08\n",
      "(update) center var = -0.14\n",
      "\n",
      "-- Step 1 --\n",
      "\n",
      "(worker 0) updated var = -0.92\n",
      "\ttook 1.72\n",
      "(worker 1) updated var = -0.74\n",
      "\ttook 1.78\n",
      "(update) center var = -0.76\n",
      "\n",
      "-- Step 2 --\n",
      "\n",
      "(worker 0) updated var = -1.39\n",
      "\ttook 1.60\n",
      "(worker 1) updated var = -1.15\n",
      "\ttook 1.44\n",
      "(update) center var = -1.22\n",
      "\n",
      "-- Step 3 --\n",
      "\n",
      "(worker 0) updated var = -1.80\n",
      "\ttook 1.54\n",
      "(worker 1) updated var = -1.83\n",
      "\ttook 1.72\n",
      "(update) center var = -1.76\n",
      "\n",
      "-- Step 4 --\n",
      "\n",
      "(worker 0) updated var = -2.16\n",
      "\ttook 1.42\n",
      "(worker 1) updated var = -2.68\n",
      "\ttook 1.98\n",
      "(update) center var = -2.35\n"
     ]
    }
   ],
   "source": [
    "controller()"
   ]
  },
  {
   "cell_type": "markdown",
   "metadata": {},
   "source": [
    "# Approche asynchrone"
   ]
  },
  {
   "cell_type": "code",
   "execution_count": null,
   "metadata": {
    "collapsed": true
   },
   "outputs": [],
   "source": [
    "# TODO"
   ]
  },
  {
   "cell_type": "markdown",
   "metadata": {},
   "source": [
    "***\n",
    "\n",
    "## Remarques\n",
    "\n",
    "Lorsque l'on utilise `multiprocessing` et qu'un processus tourne encore en tâche de fond, il suffit d'utiliser cette boucle pour nettoyer tous les processus encore actifs :"
   ]
  },
  {
   "cell_type": "code",
   "execution_count": 20,
   "metadata": {
    "collapsed": true
   },
   "outputs": [],
   "source": [
    "for child in multiprocessing.active_children():\n",
    "    child.terminate()"
   ]
  }
 ],
 "metadata": {
  "kernelspec": {
   "display_name": "Python 3",
   "language": "python",
   "name": "python3"
  },
  "language_info": {
   "codemirror_mode": {
    "name": "ipython",
    "version": 3
   },
   "file_extension": ".py",
   "mimetype": "text/x-python",
   "name": "python",
   "nbconvert_exporter": "python",
   "pygments_lexer": "ipython3",
   "version": "3.6.0"
  }
 },
 "nbformat": 4,
 "nbformat_minor": 2
}
