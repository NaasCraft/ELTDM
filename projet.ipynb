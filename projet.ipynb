{
 "cells": [
  {
   "cell_type": "markdown",
   "metadata": {},
   "source": [
    "# Projet ELTDM 2017\n",
    "\n",
    "_Enseignants_ : Xavier Dupré, Mathieu Durut  \n",
    "_Elèves_ : Laura Théveniau, Guillaume Demonet\n",
    "\n",
    "## Introduction\n",
    "\n",
    "Cadre d'application : deep learning.  \n",
    "Nombreuses méthodes parallèles, comme pour le calcul matriciel (Theano avec CUDA). Notamment, l'algorithme de descente de gradient stochastique (SGD), qui est le coeur des méthodes de deep learning.\n",
    "\n",
    "Notre objectif : ajouter un niveau de parallélisme __multi GPU__.  \n",
    "Fondé sur l'article [_Elastic Averaging SGD_](https://arxiv.org/pdf/1412.6651v8.pdf)\n",
    "\n",
    "Intérêt : très grands jeux de données comme ImageNet  \n",
    "Les modèles sont de plus en plus chers en mémoire (plusieurs dizaines de millions de paramètres) : les GPU permettant de stocker de larges _batchs_ en plus du modèle sont chères, comparées aux cluster de cartes plus modestes (offres cloud par exemple).\n",
    "Offrir un parallélisme de données entre ces multiples GPUs semble alors très intéressant.\n",
    "\n",
    "## L'algorithme _(en cours)_\n",
    "\n",
    "### _Elastic Averaging_ : le principe\n",
    "\n",
    "Pour rappel, l'objectif de l'algorithme SGD est le problème d'optimisation :\n",
    "\n",
    "$$ \\min \\limits_x F(x) := \\mathbb{E}[f(x,\\xi)]$$\n",
    "\n",
    "Avec un unique _worker_, l'algorithme utilise l'incrément :\n",
    "\n",
    "$$ x_{t+1} = x_t - \\eta \\nabla_t F(x_t) $$   \n",
    "en notant $\\nabla_t$ le gradient stochastique de $F$ la fonction de coût, $\\eta$ le taux d'apprentissage (_learning rate_).\n",
    "\n",
    "L'article propose une approche permettant d'exploiter plusieurs _workers_ en les organisant avec un controleur (ou _master_). Chaque _worker_ $i = 1 \\dots p$ utilise alors l'incrément :\n",
    "\n",
    "$$ x_{t+1}^i = x_t^i - \\eta (\\nabla_t^i F(x_t^i) + \\rho (x_t^i - \\tilde{x}_t)) $$\n",
    "\n",
    "Cet incrément, fort similaire au cas précédent, ajoute un terme $\\rho (x_t^i - \\tilde{x}_t)$ qui représente la \"force élastique\" évoquée par le titre de l'article.\n",
    "\n",
    "Le controleur, (en pratique sur le CPU), stocke la variable centrale $ \\tilde{x}_t$, et l'actualise avec :\n",
    "\n",
    "$$ \\tilde{x}_{t+1} = \\tilde{x}_t + \\eta \\sum \\limits_{i=1}^p \\rho (x_t^i - \\tilde{x}_t) $$\n",
    "\n",
    "\n",
    "L'algorithme EASGD ajoute donc au taux d'apprentissage $\\eta$ un autre paramètre de contrôle $\\rho$. Ce paramètre peut s'apparenter à l'intensité de la force élastique, de faibles valeurs permettant aux _workers_ de s'éloigner plus de la variable centrale $\\tilde{x}$.\n",
    "\n",
    "### En pratique\n",
    "\n",
    "Le principe développé ci-dessus constitue le coeur de l'algorithme EASGD. Présenté ainsi, il s'agit d'une __version synchrone__ :\n",
    "\n",
    "+ __Initialisation__  (paramètres $\\eta, \\rho$ et T)\n",
    "    + Création du controleur (dont $\\tilde{x}_1$) (noté __c__)  \n",
    "    + Création des $i$ _workers_ (notés __wi__)  \n",
    "\n",
    "+ __Pour t = 1 .. T__\n",
    "    + (__c__ -> __wi__) : Instruction de lancement\n",
    "    + (__c__ -> __wi__) : Envoi de la valeur centrale $\\tilde{x}_t$\n",
    "    + (__wi__) : Chargement des $i$ mini-batches ($\\xi_t^i$)\n",
    "    + (__wi__) : Calculs sur mini-batch, nouvelle valeur $x_{t+1}^i$\n",
    "    + (__wi__ -> __c__) : Envoi de $x_{t+1}^i$\n",
    "    + (__c__) : Ajustement de $\\tilde{x}_{t+1}$\n",
    "    \n",
    "Cette version peut souffrir de latences lorsque le nombre de _workers_ augmente beaucoup, car le temps nécessaire au controleur (notons le $T_C$ pour envoyer, séquentiellement, des données aux différents workers, ainsi que le temps pour en recevoir, s'ajoute au temps nécessaire à chaque _worker_ (notons le $T_W$) pour réaliser ses calculs. \n",
    "\n",
    "L'algorithme se réalise donc en temps $\\sim T ( i \\cdot T_C + T_W )$.\n",
    "\n",
    "On tâchera donc de répartir sur plusieurs _threads_ ces étapes de communication (un par _worker_) pour réduire à un temps $\\sim T (T_C + T_W)$.\n",
    "\n",
    "L'article propose également une __version asynchrone__  pour encore réduire l'impact de $T_C$ : chaque worker suit sa propre horloge $t^i$, et communique avec le controleur avec une période $\\tau$. On peut estimer que cette version se comporte en temps $\\sim (T / \\tau) \\cdot (T_C + \\tau \\cdot T_W)$.\n",
    "    \n",
    "Nous choisissons d'implémenter la méthode synchrone, en s'inspirant du mini-framework [__platoon__](https://github.com/mila-udem/platoon) :\n",
    "\n",
    "***\n",
    "__platoon__\n",
    "\n",
    "construit deux classes, `Controller` et `Worker`, qui communiquent avec ZMQ  \n",
    "le controller peut envoyer les batchs et repondre aux requetes  \n",
    "le worker est créé par le controller, dispose d'une API pour interagir avec le Controller et les autres workers (transfert de batch, update de paramètres)\n",
    "***\n",
    "\n",
    "On utilise alors les modules `zmq` et `multiprocessing` pour créer nos propres controleur et _workers_, ainsi que leurs communications.\n",
    "\n",
    "## Méthodologie d'évaluation\n",
    "\n",
    "_fondée sur l'article, on compare le temps nécessaire à atteindre un seuil d'erreur_\n",
    "\n",
    "_inévitable : le throughput n'est pas l'objectif ici, mais plutôt la vitesse de convergence de l'algorithme distribué, à savoir SGD_\n",
    "\n",
    "La tâche considérée en guise d'exemple sera adaptée à nos conditions d'expérimentations (2x GTX 660, chacune dotée de 4Go de mémoire) : __classification d'images avec un réseau de neurones convolutif__ (CNN) de taille raisonnable.\n",
    "\n",
    "Les données seront de taille moyenne en premier lieu, avec [__MNIST__](http://yann.lecun.com/exdb/mnist/), puis de plus grande ampleur, avec [__CIFAR-10__](https://www.cs.toronto.edu/~kriz/cifar.html).\n",
    "\n",
    "On construit pour commencer le classificateur MNIST, en utilisant l'API Keras fondée sur Theano. (L'essentiel du code provient de [keras/examples](https://github.com/fchollet/keras/tree/master/examples#keras-examples-directory))"
   ]
  },
  {
   "cell_type": "code",
   "execution_count": 1,
   "metadata": {
    "collapsed": false
   },
   "outputs": [
    {
     "name": "stderr",
     "output_type": "stream",
     "text": [
      "Using Theano backend.\n",
      "Using cuDNN version 5110 on context None\n",
      "Mapped name None to device cuda0: GeForce GTX 660 (0000:01:00.0)\n"
     ]
    }
   ],
   "source": [
    "import keras"
   ]
  },
  {
   "cell_type": "code",
   "execution_count": 2,
   "metadata": {
    "collapsed": true
   },
   "outputs": [],
   "source": [
    "from keras.datasets import mnist"
   ]
  },
  {
   "cell_type": "markdown",
   "metadata": {},
   "source": [
    "On propose d'abord un modèle simple, pour mettre en évidence les gains apportés par le parallélisme sur GPU, comparé au CPU (malgré une optimisation C fournie par Theano) :"
   ]
  },
  {
   "cell_type": "code",
   "execution_count": 3,
   "metadata": {
    "collapsed": false
   },
   "outputs": [
    {
     "data": {
      "text/plain": [
       "'th'"
      ]
     },
     "execution_count": 3,
     "metadata": {},
     "output_type": "execute_result"
    }
   ],
   "source": [
    "# checks if we are using Theano (against TensorFlow)\n",
    "keras.backend.image_dim_ordering()"
   ]
  },
  {
   "cell_type": "markdown",
   "metadata": {},
   "source": [
    "Quelques constantes, dont le nombre de cycles (un cycle correspond à un passage sur tout le jeu de données) ou la taille de _batch_ (ensemble d'images copié en mémoire GPU pour être traité). En pratique, on essayerait de maximiser la taille des _batchs_, vis à vis de la mémoire disponible après avoir stocké les paramètres du modèle, car la copie de ces derniers est une opération coûteuse en temps."
   ]
  },
  {
   "cell_type": "code",
   "execution_count": 5,
   "metadata": {
    "collapsed": true
   },
   "outputs": [],
   "source": [
    "batch_size = 64\n",
    "nb_classes = 10\n",
    "nb_epoch = 20\n",
    "\n",
    "# input image dimensions\n",
    "img_rows, img_cols = 28, 28\n",
    "# number of convolutional filters to use\n",
    "nb_filters = 32\n",
    "# size of pooling area for max pooling\n",
    "pool_size = (2, 2)\n",
    "# convolution kernel size\n",
    "kernel_size = (3, 3)"
   ]
  },
  {
   "cell_type": "markdown",
   "metadata": {},
   "source": [
    "On prépare les données :"
   ]
  },
  {
   "cell_type": "code",
   "execution_count": 6,
   "metadata": {
    "collapsed": true
   },
   "outputs": [],
   "source": [
    "# the data, shuffled and split between train and test sets\n",
    "(X_train, y_train), (X_test, y_test) = mnist.load_data()\n",
    "\n",
    "X_train = X_train.reshape(X_train.shape[0], 1, img_rows, img_cols)\n",
    "X_test = X_test.reshape(X_test.shape[0], 1, img_rows, img_cols)\n",
    "input_shape = (1, img_rows, img_cols)\n",
    "\n",
    "# float32 computations\n",
    "X_train = X_train.astype('float32')\n",
    "X_test = X_test.astype('float32')\n",
    "\n",
    "# reduce data to limit weights extreme values\n",
    "X_train /= 255\n",
    "X_test /= 255"
   ]
  },
  {
   "cell_type": "code",
   "execution_count": 7,
   "metadata": {
    "collapsed": false
   },
   "outputs": [],
   "source": [
    "# convert class vectors to binary class matrices\n",
    "from keras.utils import np_utils\n",
    "\n",
    "Y_train = np_utils.to_categorical(y_train, nb_classes)\n",
    "Y_test = np_utils.to_categorical(y_test, nb_classes)"
   ]
  },
  {
   "cell_type": "markdown",
   "metadata": {},
   "source": [
    "On propose un modèle naif et très léger pour les besoins expérimentaux :"
   ]
  },
  {
   "cell_type": "code",
   "execution_count": 9,
   "metadata": {
    "collapsed": false
   },
   "outputs": [],
   "source": [
    "from keras.models import Sequential\n",
    "from keras.layers import Dense, Activation, Flatten\n",
    "from keras.layers import Convolution2D, MaxPooling2D\n",
    "from keras import backend as K\n",
    "\n",
    "model = Sequential()\n",
    "\n",
    "model.add(Convolution2D(nb_filters, kernel_size[0], kernel_size[1],\n",
    "                        border_mode='valid',\n",
    "                        input_shape=input_shape))\n",
    "model.add(Activation('relu'))\n",
    "model.add(MaxPooling2D(pool_size=pool_size))\n",
    "\n",
    "model.add(Flatten())\n",
    "model.add(Dense(nb_classes))\n",
    "model.add(Activation('softmax'))"
   ]
  },
  {
   "cell_type": "markdown",
   "metadata": {},
   "source": [
    "On utilise pour la comparaison l'algorithme SGD :"
   ]
  },
  {
   "cell_type": "code",
   "execution_count": 10,
   "metadata": {
    "collapsed": true
   },
   "outputs": [],
   "source": [
    "model.compile(loss='categorical_crossentropy',\n",
    "              optimizer='sgd',\n",
    "              metrics=['accuracy'])"
   ]
  },
  {
   "cell_type": "markdown",
   "metadata": {},
   "source": [
    "On lance l'entraînement avec `model.fit(...)`"
   ]
  },
  {
   "cell_type": "code",
   "execution_count": null,
   "metadata": {
    "collapsed": true
   },
   "outputs": [],
   "source": [
    "# verbose=1 may lead to notebook crashing\n",
    "model.fit(X_train, Y_train, batch_size=batch_size, nb_epoch=nb_epoch,\n",
    "          verbose=0, validation_data=(X_test, Y_test))"
   ]
  },
  {
   "cell_type": "markdown",
   "metadata": {},
   "source": [
    "Après avoir stocké les résultats (voir le `README.md`) pour un entraînement sur CPU et sur une seule GPU, on observe un gain de __8x__ en temps de calcul. On se contentera donc de comparer les performances entre une et deux GPUs par la suite, bien qu'un contexte de très large cluster CPU soit valide également (cf. [DistBelief](https://static.googleusercontent.com/media/research.google.com/en//archive/large_deep_networks_nips2012.pdf))."
   ]
  },
  {
   "cell_type": "code",
   "execution_count": 1,
   "metadata": {
    "collapsed": false
   },
   "outputs": [
    {
     "name": "stdout",
     "output_type": "stream",
     "text": [
      "Speed up : 8.089000741110828\n"
     ]
    }
   ],
   "source": [
    "import pickle\n",
    "cpu_hist = pickle.load(open('small_mnist_cpu.pkl', 'rb'))\n",
    "gpu_hist = pickle.load(open('small_mnist_gpu.pkl', 'rb'))\n",
    "\n",
    "print('Speed up : {}'.format(cpu_hist['dt'][-1] / gpu_hist['dt'][-1]))"
   ]
  },
  {
   "cell_type": "code",
   "execution_count": 2,
   "metadata": {
    "collapsed": false
   },
   "outputs": [
    {
     "data": {
      "image/png": "[encoded data removed]",
      "text/plain": [
       "<matplotlib.figure.Figure at 0x7f07f482a9e8>"
      ]
     },
     "metadata": {},
     "output_type": "display_data"
    }
   ],
   "source": [
    "import matplotlib.pyplot as plt\n",
    "%matplotlib inline\n",
    "\n",
    "plt.plot(cpu_hist['dt'][:1500], cpu_hist['loss'][:1500], 'blue')\n",
    "plt.plot(gpu_hist['dt'][:1500], gpu_hist['loss'][:1500], 'orange');"
   ]
  },
  {
   "cell_type": "markdown",
   "metadata": {},
   "source": [
    "Notre implémentation d'EASGD synchrone, présentée dans [`pyzmq_tests/easgd_framework.ipynb`](https://github.com/NaasCraft/ELDTM/blob/master/pyzmq_tests/easgd_framework.ipynb), nous amène aux résultats suivants (on utilise $\\alpha = 0.1$) :"
   ]
  },
  {
   "cell_type": "code",
   "execution_count": 3,
   "metadata": {
    "collapsed": true
   },
   "outputs": [],
   "source": [
    "gpu0_hist = pickle.load(open('pyzmq_tests/sml_gpu_0.pkl', 'rb'))\n",
    "gpu1_hist = pickle.load(open('pyzmq_tests/sml_gpu_1.pkl', 'rb'))"
   ]
  },
  {
   "cell_type": "code",
   "execution_count": 4,
   "metadata": {
    "collapsed": false
   },
   "outputs": [
    {
     "data": {
      "image/png": "[encoded data removed]",
      "text/plain": [
       "<matplotlib.figure.Figure at 0x7f0804551b38>"
      ]
     },
     "metadata": {},
     "output_type": "display_data"
    }
   ],
   "source": [
    "# SGD on 1 GPU : blue\n",
    "plt.plot(gpu_hist['dt'][:1500], gpu_hist['loss'][:1500], 'blue')\n",
    "\n",
    "# EASGD on 2 GPUs : gpu0 in red, gpu1 in orange\n",
    "plt.plot(gpu1_hist['dt'][:1500], gpu1_hist['loss'][:1500], 'orange')\n",
    "plt.plot(gpu0_hist['dt'][:1500], gpu0_hist['loss'][:1500], 'red');"
   ]
  },
  {
   "cell_type": "markdown",
   "metadata": {},
   "source": [
    "Notre implémentation a un tel _overhead_ que le simple temps de lancement est supérieur au temps de convergence de SGD seul. Le décalage entre `gpu0` et `gpu1` s'explique par le fait que `gpu0` supporte simultanément les pilotes graphiques.\n",
    "\n",
    "Mais les résultats sont encore pires sur CIFAR-10 : avec un cycle environ 1.5x fois plus long qu'avec une seule GPU, le gain en _throughput_ est faible, et la convergence n'est même pas encore entamée (on ne considère que 10 cycles pour l'expérience)."
   ]
  },
  {
   "cell_type": "code",
   "execution_count": 5,
   "metadata": {
    "collapsed": true
   },
   "outputs": [],
   "source": [
    "gpu0_cifar = pickle.load(open('pyzmq_tests/cifar_gpu_0.pkl', 'rb'))\n",
    "gpu1_cifar = pickle.load(open('pyzmq_tests/cifar_gpu_1.pkl', 'rb'))\n",
    "\n",
    "sgpu_cifar = pickle.load(open('cifar_sgpu.pkl', 'rb'))"
   ]
  },
  {
   "cell_type": "code",
   "execution_count": 8,
   "metadata": {
    "collapsed": false
   },
   "outputs": [
    {
     "data": {
      "image/png": "[encoded data removed]",
      "text/plain": [
       "<matplotlib.figure.Figure at 0x7f07de67d668>"
      ]
     },
     "metadata": {},
     "output_type": "display_data"
    }
   ],
   "source": [
    "# SGD on 1 GPU\n",
    "mint = min(sgpu_cifar['dt'])\n",
    "dt_sgpu = [t - mint for t in sgpu_cifar['dt']]\n",
    "plt.plot(dt_sgpu, sgpu_cifar['loss'], 'blue')\n",
    "\n",
    "# EASGD on 2 GPUs\n",
    "plt.plot(gpu1_cifar['dt'], gpu1_cifar['loss'], 'orange')\n",
    "plt.plot(gpu0_cifar['dt'], gpu0_cifar['loss'], 'red');"
   ]
  },
  {
   "cell_type": "markdown",
   "metadata": {},
   "source": [
    "# Conclusion\n",
    "\n",
    "Bien que nous n'ayons pas eu le temps d'approfondir l'analyse de l'implémentation proposée, nous aurions souhaité :\n",
    "\n",
    "+ Comparer les convergences pour différentes valeurs de $\\eta \\rho$ (nommé $\\alpha$)\n",
    "+ Implémenter la version asynchrone pour observer le gain de temps\n",
    "\n",
    "Il nous semble probable que l'algorithme nécessite un ajustement précis, dépendant des données et du modèle utilisé. La non-convergence dans l'expérience avec CIFAR laisse néanmoins présager que le calibrage utilisé n'était clairement pas adapté à notre cas d'application.\n",
    "\n",
    "Construire un framework multi-process avec communication via ZMQ était néanmoins une approche très intéressante. Exploiter `theano.shared` aurait été utile certainement..."
   ]
  }
 ],
 "metadata": {
  "kernelspec": {
   "display_name": "Python 3",
   "language": "python",
   "name": "python3"
  },
  "language_info": {
   "codemirror_mode": {
    "name": "ipython",
    "version": 3
   },
   "file_extension": ".py",
   "mimetype": "text/x-python",
   "name": "python",
   "nbconvert_exporter": "python",
   "pygments_lexer": "ipython3",
   "version": "3.6.0"
  }
 },
 "nbformat": 4,
 "nbformat_minor": 2
}
